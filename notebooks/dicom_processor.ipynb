{
 "cells": [
  {
   "cell_type": "markdown",
   "metadata": {},
   "source": [
    "Process DICOM file and produce a 3D object"
   ]
  },
  {
   "cell_type": "markdown",
   "metadata": {},
   "source": [
    "Install dependencies"
   ]
  },
  {
   "cell_type": "code",
   "execution_count": 2,
   "metadata": {},
   "outputs": [
    {
     "name": "stdout",
     "output_type": "stream",
     "text": [
      "Requirement already satisfied: vtk in c:\\users\\tarik\\appdata\\local\\programs\\python\\python311\\lib\\site-packages (9.4.2)\n",
      "Requirement already satisfied: matplotlib>=2.0.0 in c:\\users\\tarik\\appdata\\local\\programs\\python\\python311\\lib\\site-packages (from vtk) (3.10.1)\n",
      "Requirement already satisfied: contourpy>=1.0.1 in c:\\users\\tarik\\appdata\\local\\programs\\python\\python311\\lib\\site-packages (from matplotlib>=2.0.0->vtk) (1.3.1)\n",
      "Requirement already satisfied: cycler>=0.10 in c:\\users\\tarik\\appdata\\local\\programs\\python\\python311\\lib\\site-packages (from matplotlib>=2.0.0->vtk) (0.12.1)\n",
      "Requirement already satisfied: fonttools>=4.22.0 in c:\\users\\tarik\\appdata\\local\\programs\\python\\python311\\lib\\site-packages (from matplotlib>=2.0.0->vtk) (4.57.0)\n",
      "Requirement already satisfied: kiwisolver>=1.3.1 in c:\\users\\tarik\\appdata\\local\\programs\\python\\python311\\lib\\site-packages (from matplotlib>=2.0.0->vtk) (1.4.8)\n",
      "Requirement already satisfied: numpy>=1.23 in c:\\users\\tarik\\appdata\\local\\programs\\python\\python311\\lib\\site-packages (from matplotlib>=2.0.0->vtk) (2.2.4)\n",
      "Requirement already satisfied: packaging>=20.0 in c:\\users\\tarik\\appdata\\roaming\\python\\python311\\site-packages (from matplotlib>=2.0.0->vtk) (24.2)\n",
      "Requirement already satisfied: pillow>=8 in c:\\users\\tarik\\appdata\\local\\programs\\python\\python311\\lib\\site-packages (from matplotlib>=2.0.0->vtk) (11.1.0)\n",
      "Requirement already satisfied: pyparsing>=2.3.1 in c:\\users\\tarik\\appdata\\local\\programs\\python\\python311\\lib\\site-packages (from matplotlib>=2.0.0->vtk) (3.2.3)\n",
      "Requirement already satisfied: python-dateutil>=2.7 in c:\\users\\tarik\\appdata\\roaming\\python\\python311\\site-packages (from matplotlib>=2.0.0->vtk) (2.9.0.post0)\n",
      "Requirement already satisfied: six>=1.5 in c:\\users\\tarik\\appdata\\roaming\\python\\python311\\site-packages (from python-dateutil>=2.7->matplotlib>=2.0.0->vtk) (1.17.0)\n",
      "Note: you may need to restart the kernel to use updated packages.\n"
     ]
    },
    {
     "name": "stderr",
     "output_type": "stream",
     "text": [
      "\n",
      "[notice] A new release of pip is available: 23.2.1 -> 25.0.1\n",
      "[notice] To update, run: python.exe -m pip install --upgrade pip\n"
     ]
    },
    {
     "name": "stdout",
     "output_type": "stream",
     "text": [
      "Requirement already satisfied: pydicom in c:\\users\\tarik\\appdata\\local\\programs\\python\\python311\\lib\\site-packages (3.0.1)\n",
      "Note: you may need to restart the kernel to use updated packages.\n"
     ]
    },
    {
     "name": "stderr",
     "output_type": "stream",
     "text": [
      "\n",
      "[notice] A new release of pip is available: 23.2.1 -> 25.0.1\n",
      "[notice] To update, run: python.exe -m pip install --upgrade pip\n"
     ]
    }
   ],
   "source": [
    "%pip install vtk\n",
    "%pip install pydicom"
   ]
  },
  {
   "cell_type": "markdown",
   "metadata": {},
   "source": [
    "Run DICOM processor"
   ]
  },
  {
   "cell_type": "code",
   "execution_count": null,
   "metadata": {},
   "outputs": [
    {
     "name": "stdout",
     "output_type": "stream",
     "text": [
      "3D model saved to: c:\\project\\precision_pathways\\notebooks\\3d_objects\\dicom_model.stl\n"
     ]
    },
    {
     "ename": "",
     "evalue": "",
     "output_type": "error",
     "traceback": [
      "\u001b[1;31mThe Kernel crashed while executing code in the current cell or a previous cell. \n",
      "\u001b[1;31mPlease review the code in the cell(s) to identify a possible cause of the failure. \n",
      "\u001b[1;31mClick <a href='https://aka.ms/vscodeJupyterKernelCrash'>here</a> for more info. \n",
      "\u001b[1;31mView Jupyter <a href='command:jupyter.viewOutput'>log</a> for further details."
     ]
    }
   ],
   "source": [
    "import os\n",
    "import vtk\n",
    "import pydicom\n",
    "\n",
    "# Get the absolute path of the current script\n",
    "script_dir = os.getcwd()\n",
    "\n",
    "# Define absolute paths for the DICOM and output folders\n",
    "dicom_folder = os.path.join(script_dir, \"dicoms\")\n",
    "output_folder = os.path.join(script_dir, \"3d_objects\")\n",
    "\n",
    "# Ensure the output folder exists\n",
    "os.makedirs(output_folder, exist_ok=True)\n",
    "\n",
    "# Function to load DICOM files, create a 3D model, and save it as an STL file\n",
    "def process_dicom_to_3d_and_export(folder_path, output_path):\n",
    "    # Read DICOM files\n",
    "    reader = vtk.vtkDICOMImageReader()\n",
    "    reader.SetDirectoryName(folder_path)\n",
    "    reader.Update()\n",
    "\n",
    "    # Extract the surface using vtkMarchingCubes\n",
    "    marching_cubes = vtk.vtkMarchingCubes()\n",
    "    marching_cubes.SetInputConnection(reader.GetOutputPort())\n",
    "    marching_cubes.SetValue(0, 500)  # Adjust the isovalue as needed\n",
    "    marching_cubes.Update()\n",
    "\n",
    "    # Write the surface to an STL file\n",
    "    stl_writer = vtk.vtkSTLWriter()\n",
    "    stl_writer.SetInputConnection(marching_cubes.GetOutputPort())\n",
    "    stl_writer.SetFileName(output_path)\n",
    "    stl_writer.Write()\n",
    "\n",
    "    print(f\"3D model saved to: {output_path}\")\n",
    "\n",
    "# Define the output STL file path\n",
    "output_file = os.path.join(output_folder, \"dicom_model.stl\")\n",
    "\n",
    "# Call the function to process DICOM files and export the 3D model\n",
    "process_dicom_to_3d_and_export(dicom_folder, output_file)"
   ]
  }
 ],
 "metadata": {
  "kernelspec": {
   "display_name": "Python 3",
   "language": "python",
   "name": "python3"
  },
  "language_info": {
   "codemirror_mode": {
    "name": "ipython",
    "version": 3
   },
   "file_extension": ".py",
   "mimetype": "text/x-python",
   "name": "python",
   "nbconvert_exporter": "python",
   "pygments_lexer": "ipython3",
   "version": "3.11.5"
  }
 },
 "nbformat": 4,
 "nbformat_minor": 2
}
